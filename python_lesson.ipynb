{
  "nbformat": 4,
  "nbformat_minor": 0,
  "metadata": {
    "colab": {
      "name": "python-lesson",
      "provenance": [],
      "collapsed_sections": [],
      "toc_visible": true,
      "authorship_tag": "ABX9TyNfqq8VOhJ2zsy63WiRUWeE",
      "include_colab_link": true
    },
    "kernelspec": {
      "name": "python3",
      "display_name": "Python 3"
    },
    "language_info": {
      "name": "python"
    }
  },
  "cells": [
    {
      "cell_type": "markdown",
      "metadata": {
        "id": "view-in-github",
        "colab_type": "text"
      },
      "source": [
        "<a href=\"https://colab.research.google.com/github/unapon/colab/blob/main/python_lesson.ipynb\" target=\"_parent\"><img src=\"https://colab.research.google.com/assets/colab-badge.svg\" alt=\"Open In Colab\"/></a>"
      ]
    },
    {
      "cell_type": "code",
      "metadata": {
        "colab": {
          "base_uri": "https://localhost:8080/"
        },
        "id": "AoEhSewD_N6m",
        "outputId": "e1ed052e-2bd3-435b-aeed-f3341312af41"
      },
      "source": [
        "!ls -R"
      ],
      "execution_count": null,
      "outputs": [
        {
          "output_type": "stream",
          "text": [
            ".:\n",
            "sample_data\n",
            "\n",
            "./sample_data:\n",
            "anscombe.json\t\t      mnist_test.csv\n",
            "california_housing_test.csv   mnist_train_small.csv\n",
            "california_housing_train.csv  README.md\n"
          ],
          "name": "stdout"
        }
      ]
    },
    {
      "cell_type": "code",
      "metadata": {
        "colab": {
          "base_uri": "https://localhost:8080/"
        },
        "id": "B53TEmEZ-vXI",
        "outputId": "416de917-3d92-4ae5-b7b6-661b49ce2b14"
      },
      "source": [
        "def hello():\n",
        "  print('hello world!!')\n",
        "\n",
        "hello();"
      ],
      "execution_count": null,
      "outputs": [
        {
          "output_type": "stream",
          "text": [
            "hello world!!\n"
          ],
          "name": "stdout"
        }
      ]
    },
    {
      "cell_type": "code",
      "metadata": {
        "colab": {
          "base_uri": "https://localhost:8080/"
        },
        "id": "-DjKFJwwOu71",
        "outputId": "46039d3d-1721-43cc-ff47-5109e843460c"
      },
      "source": [
        "class Hello:\n",
        "  def __init__(self, name):\n",
        "    self.name = name\n",
        "\n",
        "  def greet(self):\n",
        "    print('hello,' + self.name)\n",
        "\n",
        "h = Hello('hoge')\n",
        "h.greet()\n"
      ],
      "execution_count": null,
      "outputs": [
        {
          "output_type": "stream",
          "text": [
            "hello,hoge\n"
          ],
          "name": "stdout"
        }
      ]
    },
    {
      "cell_type": "markdown",
      "metadata": {
        "id": "m-JK8fZ0Q8Zi"
      },
      "source": [
        "### bool型の判定"
      ]
    },
    {
      "cell_type": "code",
      "metadata": {
        "colab": {
          "base_uri": "https://localhost:8080/"
        },
        "id": "ZZX1lXwHPPNc",
        "outputId": "08e381d7-bb04-44fa-fc72-b18f62826316"
      },
      "source": [
        "print(bool(0))\n",
        "print(bool(1))\n",
        "\n",
        "print(bool([]))\n",
        "tuple_ = ()\n",
        "print(bool(tuple_))"
      ],
      "execution_count": null,
      "outputs": [
        {
          "output_type": "stream",
          "text": [
            "False\n",
            "True\n",
            "False\n",
            "False\n"
          ],
          "name": "stdout"
        }
      ]
    },
    {
      "cell_type": "markdown",
      "metadata": {
        "id": "R7mSTxvVRHXT"
      },
      "source": [
        "## 例外処理"
      ]
    },
    {
      "cell_type": "code",
      "metadata": {
        "colab": {
          "base_uri": "https://localhost:8080/"
        },
        "id": "2-T6fVLORGpU",
        "outputId": "00862cd1-74ed-43f6-c6fe-88a3bf25d695"
      },
      "source": [
        "try:\n",
        "  print('this is try')\n",
        "  val = 1/0\n",
        "except Exception as e:\n",
        "  print('this is except')\n",
        "  print(e)\n",
        "  print(type(e))\n",
        "finally:\n",
        "  print('this is finally')"
      ],
      "execution_count": null,
      "outputs": [
        {
          "output_type": "stream",
          "text": [
            "this is try\n",
            "this is except\n",
            "division by zero\n",
            "<class 'ZeroDivisionError'>\n",
            "this is finally\n"
          ],
          "name": "stdout"
        }
      ]
    }
  ]
}